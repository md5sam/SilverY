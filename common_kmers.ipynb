{
 "cells": [
  {
   "cell_type": "code",
   "execution_count": 1255,
   "metadata": {
    "collapsed": true
   },
   "outputs": [],
   "source": [
    "from __future__ import division\n",
    "from Bio import SeqIO\n",
    "from Bio.SeqIO import FastaIO\n",
    "from Bio.SeqRecord import SeqRecord\n",
    "from collections import defaultdict\n",
    "import os\n",
    "import itertools"
   ]
  },
  {
   "cell_type": "code",
   "execution_count": 1256,
   "metadata": {
    "collapsed": true
   },
   "outputs": [],
   "source": [
    "def reverse_complement(seq):\n",
    "    seq_dict = {'A':'T','T':'A','G':'C','C':'G','N':'N'}\n",
    "    return \"\".join([seq_dict[base] for base in reversed(seq)])"
   ]
  },
  {
   "cell_type": "code",
   "execution_count": 1257,
   "metadata": {
    "collapsed": true
   },
   "outputs": [],
   "source": [
    "def kmerize (ip_string, kmer_size) :\n",
    "    return [ip_string[i:i+kmer_size] for i in range(0, len(ip_string)-kmer_size+1, 1)]"
   ]
  },
  {
   "cell_type": "code",
   "execution_count": 1258,
   "metadata": {
    "collapsed": true
   },
   "outputs": [],
   "source": [
    "# function that uses BioPython to convert a fasta file to a dict\n",
    "def parse_ctgs_fasta (ip_fasta_file) :\n",
    "    with open(ip_fasta_file, \"r\") as handle :\n",
    "        contigs_dict = SeqIO.to_dict(SeqIO.parse(handle, \"fasta\"))\n",
    "    return contigs_dict"
   ]
  },
  {
   "cell_type": "code",
   "execution_count": 1259,
   "metadata": {
    "collapsed": true
   },
   "outputs": [],
   "source": [
    "def make_set_from_kmer_abundance (ip_file, kmer_size) :\n",
    "    ''' THIS FUNCTION HANDLES REVERSE COMPLEMENTS AS WELL'''\n",
    "    with open(ip_file,'r') as file_handle1 :\n",
    "        list1 = [line[:kmer_size] for line in file_handle1]\n",
    "    with open(ip_file,'r') as file_handle2 :\n",
    "        list2 = [reverse_complement(line[:kmer_size]) for line in file_handle2]   \n",
    "    list1.extend(list2)\n",
    "    #print set(list1)\n",
    "    return set (list1)"
   ]
  },
  {
   "cell_type": "code",
   "execution_count": 1260,
   "metadata": {
    "collapsed": true
   },
   "outputs": [],
   "source": [
    "possible_species = ['hum', 'chimp', 'gor', 'bono', 'orang']\n",
    "def identify_species(kmer_file):\n",
    "    for species in possible_species :\n",
    "        if species in os.path.basename(kmer_file) :\n",
    "            return species"
   ]
  },
  {
   "cell_type": "code",
   "execution_count": 1261,
   "metadata": {
    "collapsed": true
   },
   "outputs": [],
   "source": [
    "species_kmers_dict = defaultdict(set)\n",
    "def make_species_dict(source_folder, kmer_files_by_species, k_size) :\n",
    "    for kmer_file in kmer_files_by_species : \n",
    "        global species_kmers_dict\n",
    "        species = identify_species(kmer_file)\n",
    "        # do you want to have a sentinel here for non-empty species only?\n",
    "        # if species_kmers_dict[species] not None :\n",
    "        full_kmer_file_path = source_folder+kmer_file\n",
    "        species_kmers_dict[species] = make_set_from_kmer_abundance(full_kmer_file_path , k_size)\n",
    "    return species_kmers_dict"
   ]
  },
  {
   "cell_type": "code",
   "execution_count": 1262,
   "metadata": {
    "collapsed": false
   },
   "outputs": [],
   "source": [
    "def intersect_kmers(*species) :\n",
    "    '''ONLY EVER GIVE SPECIES NAMES TO THIS, NOT THE KMER FILE NAME'''\n",
    "    # First convert the ip_tuple into a list with correct # of elements\n",
    "    species_list = list(itertools.chain(*species))\n",
    "    \n",
    "    # sort this species_list for consistency\n",
    "    # i.e. human_chimp_gorilla should be same as chimp_gorilla_human\n",
    "    sorted_species_list = sorted(species_list)\n",
    "   \n",
    "    # create a new name for the species you are intersecting\n",
    "    name = '_'.join(sorted_species_list)\n",
    "    \n",
    "    to_intersect = []\n",
    "    # to_intersect will soon become a list of sets \n",
    "    for specie in species_list : \n",
    "        for k, v in species_kmers_dict.iteritems() :\n",
    "            if specie == k :\n",
    "                to_intersect.append(v)\n",
    "                \n",
    "    # use list unpacking to find intersection of a list of sets \n",
    "    species_kmers_dict[name] = set.intersection(*to_intersect)\n",
    "    return name, species_kmers_dict[name]\n",
    "   "
   ]
  },
  {
   "cell_type": "code",
   "execution_count": 1263,
   "metadata": {
    "collapsed": true
   },
   "outputs": [],
   "source": [
    "def main () :\n",
    "    k_size = 31 \n",
    "    kmer_files = []\n",
    "    folder_to_look_in = \"./data/\"\n",
    "    op_dir = \"./op_dir\"\n",
    "    \n",
    "    # os.walk prints dirpath, dirnames, filenames\n",
    "    # get the kmer_files you're interested in\n",
    "    for _, _, files in os.walk(folder_to_look_in) :\n",
    "        kmer_files.extend(files)\n",
    "    \n",
    "    # start using only the species short_name henceforth to avoid confusion\n",
    "    # i.e. orang_kmers, orang_file, orang_kmerfile etc. becomes just 'orang'\n",
    "    species_shortnames = []\n",
    "    for kmer_file in kmer_files :\n",
    "        species_shortnames.append(identify_species(kmer_file))\n",
    "    \n",
    "    # by default we do an all-v-all comparison 2,3,4,5 at a time\n",
    "    # comparisons will look like : ['bono', 'chimp'], ['bono', 'chimp', 'gor'], etc. \n",
    "    comparisons = []\n",
    "    for i in range (2, len(species_shortnames)+1) :\n",
    "        curr_comparisons = itertools.combinations(species_shortnames,i)\n",
    "        for group in curr_comparisons : \n",
    "            comparisons.append(group)\n",
    "        \n",
    "    # by default, for every species we have a kmer_file for, we make a dict\n",
    "    # dict where key is species_shortname and value is all its kmers in kmerfile\n",
    "    make_species_dict(folder_to_look_in, kmer_files, k_size)\n",
    "    \n",
    "    # make a new directory to write o/p files\n",
    "    if not os.path.exists(op_dir):\n",
    "        os.makedirs(op_dir)\n",
    "    \n",
    "    # now we compare every group in comparisons\n",
    "    for group in comparisons :\n",
    "        list_group = list(group)\n",
    "        file_name, file_contents = intersect_kmers(list_group)\n",
    "        op_name = op_dir+'/'+file_name\n",
    "        with open(op_name,\"w\") as fp_out : \n",
    "            if file_contents : \n",
    "                for element in file_contents : \n",
    "                    fp_out.write(str(element))\n",
    "                    fp_out.write('\\n')\n",
    "        #print len(file_contents)"
   ]
  },
  {
   "cell_type": "code",
   "execution_count": 1264,
   "metadata": {
    "collapsed": false
   },
   "outputs": [
    {
     "name": "stdout",
     "output_type": "stream",
     "text": [
      "0\n",
      "0\n",
      "0\n",
      "0\n",
      "0\n",
      "2\n",
      "0\n",
      "0\n",
      "0\n",
      "0\n",
      "0\n",
      "0\n",
      "0\n",
      "0\n",
      "0\n",
      "0\n",
      "0\n",
      "0\n",
      "0\n",
      "0\n",
      "0\n",
      "0\n",
      "0\n",
      "0\n",
      "0\n",
      "0\n"
     ]
    }
   ],
   "source": [
    "if __name__ == \"__main__\": main()"
   ]
  },
  {
   "cell_type": "code",
   "execution_count": null,
   "metadata": {
    "collapsed": true
   },
   "outputs": [],
   "source": []
  }
 ],
 "metadata": {
  "kernelspec": {
   "display_name": "Python 2",
   "language": "python",
   "name": "python2"
  },
  "language_info": {
   "codemirror_mode": {
    "name": "ipython",
    "version": 2
   },
   "file_extension": ".py",
   "mimetype": "text/x-python",
   "name": "python",
   "nbconvert_exporter": "python",
   "pygments_lexer": "ipython2",
   "version": "2.7.11"
  }
 },
 "nbformat": 4,
 "nbformat_minor": 0
}
